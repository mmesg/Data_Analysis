{
 "cells": [
  {
   "cell_type": "markdown",
   "id": "76e6948e",
   "metadata": {},
   "source": [
    "# Revenue of a bike retail store: multiple linear regression\n",
    "\n",
    "                Project for the course: \"Mathematics for machine learning\" by Opencampus.sh\n",
    "                                Project by: Miriam Mesghennà"
   ]
  },
  {
   "attachments": {
    "bike%20shop-2.jpg": {
     "image/jpeg": "[encoded data removed]"
    }
   },
   "cell_type": "markdown",
   "id": "6a04f7fe",
   "metadata": {},
   "source": [
    "![bike%20shop-2.jpg](attachment:bike%20shop-2.jpg)"
   ]
  },
  {
   "cell_type": "markdown",
   "id": "80dd2c82",
   "metadata": {},
   "source": [
    "This project aims at predicting the sales of a bike company. In order to do that, I will check if there is a correlation between the money spent by a customer purchase (\"Revenue\" column) and the following variables: customer age, customer gender and product price. \n",
    "\n",
    "Dataset source:\n",
    "\n",
    "https://www.kaggle.com/datasets/thedevastator/analyzing-customer-spending-habits-to-improve-sa?resource=download\n",
    "\n",
    "\n",
    "## Contents\n",
    "\n",
    "### 1) Analysis of the dataset and data cleaning\n",
    "     \n",
    "     1.1. Dropping irrelevant columns\n",
    "     1.2. Information about the columns\n",
    "     1.3. Data Cleaning\n",
    "     \n",
    "### 2) Linear regression analysis\n",
    "\n",
    "    2.1. Checking for multicollinearity\n",
    "    2.2. Linear regression model and results\n",
    "\n",
    "### 3) Conclusion"
   ]
  },
  {
   "cell_type": "markdown",
   "id": "9cb29edd",
   "metadata": {},
   "source": [
    "<br>\n",
    "<br>\n",
    "<br>\n",
    "\n",
    "#### 1.1. Dropping irrelevant columns"
   ]
  },
  {
   "cell_type": "code",
   "execution_count": 1,
   "id": "fb7fde11",
   "metadata": {},
   "outputs": [],
   "source": [
    "import pandas as pd"
   ]
  },
  {
   "cell_type": "code",
   "execution_count": 2,
   "id": "da052bc7",
   "metadata": {},
   "outputs": [
    {
     "data": {
      "text/html": [
       "<div>\n",
       "<style scoped>\n",
       "    .dataframe tbody tr th:only-of-type {\n",
       "        vertical-align: middle;\n",
       "    }\n",
       "\n",
       "    .dataframe tbody tr th {\n",
       "        vertical-align: top;\n",
       "    }\n",
       "\n",
       "    .dataframe thead th {\n",
       "        text-align: right;\n",
       "    }\n",
       "</style>\n",
       "<table border=\"1\" class=\"dataframe\">\n",
       "  <thead>\n",
       "    <tr style=\"text-align: right;\">\n",
       "      <th></th>\n",
       "      <th>index</th>\n",
       "      <th>Date</th>\n",
       "      <th>Year</th>\n",
       "      <th>Month</th>\n",
       "      <th>Customer Age</th>\n",
       "      <th>Customer Gender</th>\n",
       "      <th>Country</th>\n",
       "      <th>State</th>\n",
       "      <th>Product Category</th>\n",
       "      <th>Sub Category</th>\n",
       "      <th>Quantity</th>\n",
       "      <th>Unit Cost</th>\n",
       "      <th>Unit Price</th>\n",
       "      <th>Cost</th>\n",
       "      <th>Revenue</th>\n",
       "      <th>Column1</th>\n",
       "    </tr>\n",
       "  </thead>\n",
       "  <tbody>\n",
       "    <tr>\n",
       "      <th>0</th>\n",
       "      <td>0</td>\n",
       "      <td>02/19/16</td>\n",
       "      <td>2016.0</td>\n",
       "      <td>February</td>\n",
       "      <td>29.0</td>\n",
       "      <td>F</td>\n",
       "      <td>United States</td>\n",
       "      <td>Washington</td>\n",
       "      <td>Accessories</td>\n",
       "      <td>Tires and Tubes</td>\n",
       "      <td>1.0</td>\n",
       "      <td>80.00</td>\n",
       "      <td>109.000000</td>\n",
       "      <td>80.0</td>\n",
       "      <td>109.000000</td>\n",
       "      <td>NaN</td>\n",
       "    </tr>\n",
       "    <tr>\n",
       "      <th>1</th>\n",
       "      <td>1</td>\n",
       "      <td>02/20/16</td>\n",
       "      <td>2016.0</td>\n",
       "      <td>February</td>\n",
       "      <td>29.0</td>\n",
       "      <td>F</td>\n",
       "      <td>United States</td>\n",
       "      <td>Washington</td>\n",
       "      <td>Clothing</td>\n",
       "      <td>Gloves</td>\n",
       "      <td>2.0</td>\n",
       "      <td>24.50</td>\n",
       "      <td>28.500000</td>\n",
       "      <td>49.0</td>\n",
       "      <td>57.000000</td>\n",
       "      <td>NaN</td>\n",
       "    </tr>\n",
       "    <tr>\n",
       "      <th>2</th>\n",
       "      <td>2</td>\n",
       "      <td>02/27/16</td>\n",
       "      <td>2016.0</td>\n",
       "      <td>February</td>\n",
       "      <td>29.0</td>\n",
       "      <td>F</td>\n",
       "      <td>United States</td>\n",
       "      <td>Washington</td>\n",
       "      <td>Accessories</td>\n",
       "      <td>Tires and Tubes</td>\n",
       "      <td>3.0</td>\n",
       "      <td>3.67</td>\n",
       "      <td>5.000000</td>\n",
       "      <td>11.0</td>\n",
       "      <td>15.000000</td>\n",
       "      <td>NaN</td>\n",
       "    </tr>\n",
       "    <tr>\n",
       "      <th>...</th>\n",
       "      <td>...</td>\n",
       "      <td>...</td>\n",
       "      <td>...</td>\n",
       "      <td>...</td>\n",
       "      <td>...</td>\n",
       "      <td>...</td>\n",
       "      <td>...</td>\n",
       "      <td>...</td>\n",
       "      <td>...</td>\n",
       "      <td>...</td>\n",
       "      <td>...</td>\n",
       "      <td>...</td>\n",
       "      <td>...</td>\n",
       "      <td>...</td>\n",
       "      <td>...</td>\n",
       "      <td>...</td>\n",
       "    </tr>\n",
       "    <tr>\n",
       "      <th>34864</th>\n",
       "      <td>34864</td>\n",
       "      <td>04/05/15</td>\n",
       "      <td>2015.0</td>\n",
       "      <td>April</td>\n",
       "      <td>38.0</td>\n",
       "      <td>M</td>\n",
       "      <td>France</td>\n",
       "      <td>Hauts de Seine</td>\n",
       "      <td>Bikes</td>\n",
       "      <td>Mountain Bikes</td>\n",
       "      <td>3.0</td>\n",
       "      <td>683.00</td>\n",
       "      <td>560.666667</td>\n",
       "      <td>2049.0</td>\n",
       "      <td>1682.000000</td>\n",
       "      <td>NaN</td>\n",
       "    </tr>\n",
       "    <tr>\n",
       "      <th>34865</th>\n",
       "      <td>34865</td>\n",
       "      <td>08/30/15</td>\n",
       "      <td>2015.0</td>\n",
       "      <td>August</td>\n",
       "      <td>38.0</td>\n",
       "      <td>M</td>\n",
       "      <td>France</td>\n",
       "      <td>Hauts de Seine</td>\n",
       "      <td>Bikes</td>\n",
       "      <td>Mountain Bikes</td>\n",
       "      <td>1.0</td>\n",
       "      <td>2320.00</td>\n",
       "      <td>1568.000000</td>\n",
       "      <td>2320.0</td>\n",
       "      <td>1568.000000</td>\n",
       "      <td>NaN</td>\n",
       "    </tr>\n",
       "    <tr>\n",
       "      <th>34866</th>\n",
       "      <td>34866</td>\n",
       "      <td>NaN</td>\n",
       "      <td>NaN</td>\n",
       "      <td>NaN</td>\n",
       "      <td>NaN</td>\n",
       "      <td>NaN</td>\n",
       "      <td>NaN</td>\n",
       "      <td>NaN</td>\n",
       "      <td>NaN</td>\n",
       "      <td>NaN</td>\n",
       "      <td>NaN</td>\n",
       "      <td>NaN</td>\n",
       "      <td>NaN</td>\n",
       "      <td>NaN</td>\n",
       "      <td>641.532095</td>\n",
       "      <td>NaN</td>\n",
       "    </tr>\n",
       "  </tbody>\n",
       "</table>\n",
       "<p>34867 rows × 16 columns</p>\n",
       "</div>"
      ],
      "text/plain": [
       "       index      Date    Year     Month  Customer Age Customer Gender  \\\n",
       "0          0  02/19/16  2016.0  February          29.0               F   \n",
       "1          1  02/20/16  2016.0  February          29.0               F   \n",
       "2          2  02/27/16  2016.0  February          29.0               F   \n",
       "...      ...       ...     ...       ...           ...             ...   \n",
       "34864  34864  04/05/15  2015.0     April          38.0               M   \n",
       "34865  34865  08/30/15  2015.0    August          38.0               M   \n",
       "34866  34866       NaN     NaN       NaN           NaN             NaN   \n",
       "\n",
       "             Country           State Product Category     Sub Category  \\\n",
       "0      United States      Washington      Accessories  Tires and Tubes   \n",
       "1      United States      Washington         Clothing           Gloves   \n",
       "2      United States      Washington      Accessories  Tires and Tubes   \n",
       "...              ...             ...              ...              ...   \n",
       "34864         France  Hauts de Seine            Bikes   Mountain Bikes   \n",
       "34865         France  Hauts de Seine            Bikes   Mountain Bikes   \n",
       "34866            NaN             NaN              NaN              NaN   \n",
       "\n",
       "       Quantity  Unit Cost   Unit Price    Cost      Revenue  Column1  \n",
       "0           1.0      80.00   109.000000    80.0   109.000000      NaN  \n",
       "1           2.0      24.50    28.500000    49.0    57.000000      NaN  \n",
       "2           3.0       3.67     5.000000    11.0    15.000000      NaN  \n",
       "...         ...        ...          ...     ...          ...      ...  \n",
       "34864       3.0     683.00   560.666667  2049.0  1682.000000      NaN  \n",
       "34865       1.0    2320.00  1568.000000  2320.0  1568.000000      NaN  \n",
       "34866       NaN        NaN          NaN     NaN   641.532095      NaN  \n",
       "\n",
       "[34867 rows x 16 columns]"
      ]
     },
     "execution_count": 2,
     "metadata": {},
     "output_type": "execute_result"
    }
   ],
   "source": [
    "pd.set_option(\"display.max_rows\", 7)\n",
    "df = pd.read_csv(\"Bike_store_data.csv\")\n",
    "df"
   ]
  },
  {
   "cell_type": "markdown",
   "id": "239939d6",
   "metadata": {},
   "source": [
    "Let's drop the columns \"index\", \"Date\", \"Year\", \"Month\", \"State\", \"Product Category\", \"Sub Category\",\"Quantity\", \"Unit Cost\", \"Column1\":"
   ]
  },
  {
   "cell_type": "code",
   "execution_count": 3,
   "id": "525207b1",
   "metadata": {},
   "outputs": [],
   "source": [
    "df = df.drop(columns=[\"index\", \"Date\", \"Year\", \"Month\", \"State\", \"Product Category\",\"Sub Category\",\"Quantity\", \"Unit Cost\", \"Cost\", \"Column1\"])"
   ]
  },
  {
   "cell_type": "code",
   "execution_count": 4,
   "id": "56cd7939",
   "metadata": {},
   "outputs": [
    {
     "data": {
      "text/html": [
       "<div>\n",
       "<style scoped>\n",
       "    .dataframe tbody tr th:only-of-type {\n",
       "        vertical-align: middle;\n",
       "    }\n",
       "\n",
       "    .dataframe tbody tr th {\n",
       "        vertical-align: top;\n",
       "    }\n",
       "\n",
       "    .dataframe thead th {\n",
       "        text-align: right;\n",
       "    }\n",
       "</style>\n",
       "<table border=\"1\" class=\"dataframe\">\n",
       "  <thead>\n",
       "    <tr style=\"text-align: right;\">\n",
       "      <th></th>\n",
       "      <th>Customer Age</th>\n",
       "      <th>Customer Gender</th>\n",
       "      <th>Country</th>\n",
       "      <th>Unit Price</th>\n",
       "      <th>Revenue</th>\n",
       "    </tr>\n",
       "  </thead>\n",
       "  <tbody>\n",
       "    <tr>\n",
       "      <th>0</th>\n",
       "      <td>29.0</td>\n",
       "      <td>F</td>\n",
       "      <td>United States</td>\n",
       "      <td>109.000000</td>\n",
       "      <td>109.000000</td>\n",
       "    </tr>\n",
       "    <tr>\n",
       "      <th>1</th>\n",
       "      <td>29.0</td>\n",
       "      <td>F</td>\n",
       "      <td>United States</td>\n",
       "      <td>28.500000</td>\n",
       "      <td>57.000000</td>\n",
       "    </tr>\n",
       "    <tr>\n",
       "      <th>2</th>\n",
       "      <td>29.0</td>\n",
       "      <td>F</td>\n",
       "      <td>United States</td>\n",
       "      <td>5.000000</td>\n",
       "      <td>15.000000</td>\n",
       "    </tr>\n",
       "    <tr>\n",
       "      <th>...</th>\n",
       "      <td>...</td>\n",
       "      <td>...</td>\n",
       "      <td>...</td>\n",
       "      <td>...</td>\n",
       "      <td>...</td>\n",
       "    </tr>\n",
       "    <tr>\n",
       "      <th>34864</th>\n",
       "      <td>38.0</td>\n",
       "      <td>M</td>\n",
       "      <td>France</td>\n",
       "      <td>560.666667</td>\n",
       "      <td>1682.000000</td>\n",
       "    </tr>\n",
       "    <tr>\n",
       "      <th>34865</th>\n",
       "      <td>38.0</td>\n",
       "      <td>M</td>\n",
       "      <td>France</td>\n",
       "      <td>1568.000000</td>\n",
       "      <td>1568.000000</td>\n",
       "    </tr>\n",
       "    <tr>\n",
       "      <th>34866</th>\n",
       "      <td>NaN</td>\n",
       "      <td>NaN</td>\n",
       "      <td>NaN</td>\n",
       "      <td>NaN</td>\n",
       "      <td>641.532095</td>\n",
       "    </tr>\n",
       "  </tbody>\n",
       "</table>\n",
       "<p>34867 rows × 5 columns</p>\n",
       "</div>"
      ],
      "text/plain": [
       "       Customer Age Customer Gender        Country   Unit Price      Revenue\n",
       "0              29.0               F  United States   109.000000   109.000000\n",
       "1              29.0               F  United States    28.500000    57.000000\n",
       "2              29.0               F  United States     5.000000    15.000000\n",
       "...             ...             ...            ...          ...          ...\n",
       "34864          38.0               M         France   560.666667  1682.000000\n",
       "34865          38.0               M         France  1568.000000  1568.000000\n",
       "34866           NaN             NaN            NaN          NaN   641.532095\n",
       "\n",
       "[34867 rows x 5 columns]"
      ]
     },
     "execution_count": 4,
     "metadata": {},
     "output_type": "execute_result"
    }
   ],
   "source": [
    "df"
   ]
  },
  {
   "cell_type": "markdown",
   "id": "9c5e1da5",
   "metadata": {},
   "source": [
    "### 1.2. Information about the columns"
   ]
  },
  {
   "cell_type": "code",
   "execution_count": 5,
   "id": "e531e223",
   "metadata": {},
   "outputs": [
    {
     "name": "stdout",
     "output_type": "stream",
     "text": [
      "<class 'pandas.core.frame.DataFrame'>\n",
      "RangeIndex: 34867 entries, 0 to 34866\n",
      "Data columns (total 5 columns):\n",
      " #   Column           Non-Null Count  Dtype  \n",
      "---  ------           --------------  -----  \n",
      " 0   Customer Age     34866 non-null  float64\n",
      " 1   Customer Gender  34866 non-null  object \n",
      " 2   Country          34866 non-null  object \n",
      " 3   Unit Price       34866 non-null  float64\n",
      " 4   Revenue          34867 non-null  float64\n",
      "dtypes: float64(3), object(2)\n",
      "memory usage: 1.3+ MB\n"
     ]
    }
   ],
   "source": [
    "df.info()"
   ]
  },
  {
   "cell_type": "markdown",
   "id": "058b4f8a",
   "metadata": {},
   "source": [
    "### 1.3. Data cleaning"
   ]
  },
  {
   "cell_type": "markdown",
   "id": "5f91a66e",
   "metadata": {},
   "source": [
    "#### Customer Age"
   ]
  },
  {
   "cell_type": "code",
   "execution_count": 6,
   "id": "33fae843",
   "metadata": {},
   "outputs": [
    {
     "data": {
      "text/html": [
       "<div>\n",
       "<style scoped>\n",
       "    .dataframe tbody tr th:only-of-type {\n",
       "        vertical-align: middle;\n",
       "    }\n",
       "\n",
       "    .dataframe tbody tr th {\n",
       "        vertical-align: top;\n",
       "    }\n",
       "\n",
       "    .dataframe thead th {\n",
       "        text-align: right;\n",
       "    }\n",
       "</style>\n",
       "<table border=\"1\" class=\"dataframe\">\n",
       "  <thead>\n",
       "    <tr style=\"text-align: right;\">\n",
       "      <th></th>\n",
       "      <th>Customer Age</th>\n",
       "      <th>Customer Gender</th>\n",
       "      <th>Country</th>\n",
       "      <th>Unit Price</th>\n",
       "      <th>Revenue</th>\n",
       "    </tr>\n",
       "  </thead>\n",
       "  <tbody>\n",
       "    <tr>\n",
       "      <th>0</th>\n",
       "      <td>29.0</td>\n",
       "      <td>F</td>\n",
       "      <td>United States</td>\n",
       "      <td>109.000000</td>\n",
       "      <td>109.000000</td>\n",
       "    </tr>\n",
       "    <tr>\n",
       "      <th>1</th>\n",
       "      <td>29.0</td>\n",
       "      <td>F</td>\n",
       "      <td>United States</td>\n",
       "      <td>28.500000</td>\n",
       "      <td>57.000000</td>\n",
       "    </tr>\n",
       "    <tr>\n",
       "      <th>2</th>\n",
       "      <td>29.0</td>\n",
       "      <td>F</td>\n",
       "      <td>United States</td>\n",
       "      <td>5.000000</td>\n",
       "      <td>15.000000</td>\n",
       "    </tr>\n",
       "    <tr>\n",
       "      <th>...</th>\n",
       "      <td>...</td>\n",
       "      <td>...</td>\n",
       "      <td>...</td>\n",
       "      <td>...</td>\n",
       "      <td>...</td>\n",
       "    </tr>\n",
       "    <tr>\n",
       "      <th>34864</th>\n",
       "      <td>38.0</td>\n",
       "      <td>M</td>\n",
       "      <td>France</td>\n",
       "      <td>560.666667</td>\n",
       "      <td>1682.000000</td>\n",
       "    </tr>\n",
       "    <tr>\n",
       "      <th>34865</th>\n",
       "      <td>38.0</td>\n",
       "      <td>M</td>\n",
       "      <td>France</td>\n",
       "      <td>1568.000000</td>\n",
       "      <td>1568.000000</td>\n",
       "    </tr>\n",
       "    <tr>\n",
       "      <th>34866</th>\n",
       "      <td>NaN</td>\n",
       "      <td>NaN</td>\n",
       "      <td>NaN</td>\n",
       "      <td>NaN</td>\n",
       "      <td>641.532095</td>\n",
       "    </tr>\n",
       "  </tbody>\n",
       "</table>\n",
       "<p>34867 rows × 5 columns</p>\n",
       "</div>"
      ],
      "text/plain": [
       "       Customer Age Customer Gender        Country   Unit Price      Revenue\n",
       "0              29.0               F  United States   109.000000   109.000000\n",
       "1              29.0               F  United States    28.500000    57.000000\n",
       "2              29.0               F  United States     5.000000    15.000000\n",
       "...             ...             ...            ...          ...          ...\n",
       "34864          38.0               M         France   560.666667  1682.000000\n",
       "34865          38.0               M         France  1568.000000  1568.000000\n",
       "34866           NaN             NaN            NaN          NaN   641.532095\n",
       "\n",
       "[34867 rows x 5 columns]"
      ]
     },
     "execution_count": 6,
     "metadata": {},
     "output_type": "execute_result"
    }
   ],
   "source": [
    "df"
   ]
  },
  {
   "cell_type": "markdown",
   "id": "29c482c6",
   "metadata": {},
   "source": [
    "\"Customer Age\" is a \"float\" Datatype: let's convert it into an \"integer\" datatype. \n",
    "First let's make sure there are no  NaN (not a number) values in the whole dataset:"
   ]
  },
  {
   "cell_type": "code",
   "execution_count": 7,
   "id": "3c97d115",
   "metadata": {},
   "outputs": [
    {
     "data": {
      "text/plain": [
       "Customer Age       1\n",
       "Customer Gender    1\n",
       "Country            1\n",
       "Unit Price         1\n",
       "Revenue            0\n",
       "dtype: int64"
      ]
     },
     "execution_count": 7,
     "metadata": {},
     "output_type": "execute_result"
    }
   ],
   "source": [
    "df.isnull().sum()"
   ]
  },
  {
   "cell_type": "code",
   "execution_count": 8,
   "id": "7bfc1dca",
   "metadata": {},
   "outputs": [
    {
     "data": {
      "text/html": [
       "<div>\n",
       "<style scoped>\n",
       "    .dataframe tbody tr th:only-of-type {\n",
       "        vertical-align: middle;\n",
       "    }\n",
       "\n",
       "    .dataframe tbody tr th {\n",
       "        vertical-align: top;\n",
       "    }\n",
       "\n",
       "    .dataframe thead th {\n",
       "        text-align: right;\n",
       "    }\n",
       "</style>\n",
       "<table border=\"1\" class=\"dataframe\">\n",
       "  <thead>\n",
       "    <tr style=\"text-align: right;\">\n",
       "      <th></th>\n",
       "      <th>Customer Age</th>\n",
       "      <th>Customer Gender</th>\n",
       "      <th>Country</th>\n",
       "      <th>Unit Price</th>\n",
       "      <th>Revenue</th>\n",
       "    </tr>\n",
       "  </thead>\n",
       "  <tbody>\n",
       "    <tr>\n",
       "      <th>0</th>\n",
       "      <td>False</td>\n",
       "      <td>False</td>\n",
       "      <td>False</td>\n",
       "      <td>False</td>\n",
       "      <td>False</td>\n",
       "    </tr>\n",
       "    <tr>\n",
       "      <th>1</th>\n",
       "      <td>False</td>\n",
       "      <td>False</td>\n",
       "      <td>False</td>\n",
       "      <td>False</td>\n",
       "      <td>False</td>\n",
       "    </tr>\n",
       "    <tr>\n",
       "      <th>2</th>\n",
       "      <td>False</td>\n",
       "      <td>False</td>\n",
       "      <td>False</td>\n",
       "      <td>False</td>\n",
       "      <td>False</td>\n",
       "    </tr>\n",
       "    <tr>\n",
       "      <th>...</th>\n",
       "      <td>...</td>\n",
       "      <td>...</td>\n",
       "      <td>...</td>\n",
       "      <td>...</td>\n",
       "      <td>...</td>\n",
       "    </tr>\n",
       "    <tr>\n",
       "      <th>34864</th>\n",
       "      <td>False</td>\n",
       "      <td>False</td>\n",
       "      <td>False</td>\n",
       "      <td>False</td>\n",
       "      <td>False</td>\n",
       "    </tr>\n",
       "    <tr>\n",
       "      <th>34865</th>\n",
       "      <td>False</td>\n",
       "      <td>False</td>\n",
       "      <td>False</td>\n",
       "      <td>False</td>\n",
       "      <td>False</td>\n",
       "    </tr>\n",
       "    <tr>\n",
       "      <th>34866</th>\n",
       "      <td>True</td>\n",
       "      <td>True</td>\n",
       "      <td>True</td>\n",
       "      <td>True</td>\n",
       "      <td>False</td>\n",
       "    </tr>\n",
       "  </tbody>\n",
       "</table>\n",
       "<p>34867 rows × 5 columns</p>\n",
       "</div>"
      ],
      "text/plain": [
       "       Customer Age  Customer Gender  Country  Unit Price  Revenue\n",
       "0             False            False    False       False    False\n",
       "1             False            False    False       False    False\n",
       "2             False            False    False       False    False\n",
       "...             ...              ...      ...         ...      ...\n",
       "34864         False            False    False       False    False\n",
       "34865         False            False    False       False    False\n",
       "34866          True             True     True        True    False\n",
       "\n",
       "[34867 rows x 5 columns]"
      ]
     },
     "execution_count": 8,
     "metadata": {},
     "output_type": "execute_result"
    }
   ],
   "source": [
    "df.isnull()"
   ]
  },
  {
   "cell_type": "markdown",
   "id": "d8a7875e",
   "metadata": {},
   "source": [
    "Row 34866 has NaN cells. Let's take a closer look at this row:"
   ]
  },
  {
   "cell_type": "code",
   "execution_count": 9,
   "id": "10a76f9f",
   "metadata": {},
   "outputs": [
    {
     "data": {
      "text/html": [
       "<div>\n",
       "<style scoped>\n",
       "    .dataframe tbody tr th:only-of-type {\n",
       "        vertical-align: middle;\n",
       "    }\n",
       "\n",
       "    .dataframe tbody tr th {\n",
       "        vertical-align: top;\n",
       "    }\n",
       "\n",
       "    .dataframe thead th {\n",
       "        text-align: right;\n",
       "    }\n",
       "</style>\n",
       "<table border=\"1\" class=\"dataframe\">\n",
       "  <thead>\n",
       "    <tr style=\"text-align: right;\">\n",
       "      <th></th>\n",
       "      <th>Customer Age</th>\n",
       "      <th>Customer Gender</th>\n",
       "      <th>Country</th>\n",
       "      <th>Unit Price</th>\n",
       "      <th>Revenue</th>\n",
       "    </tr>\n",
       "  </thead>\n",
       "  <tbody>\n",
       "    <tr>\n",
       "      <th>34866</th>\n",
       "      <td>NaN</td>\n",
       "      <td>NaN</td>\n",
       "      <td>NaN</td>\n",
       "      <td>NaN</td>\n",
       "      <td>641.532095</td>\n",
       "    </tr>\n",
       "  </tbody>\n",
       "</table>\n",
       "</div>"
      ],
      "text/plain": [
       "       Customer Age Customer Gender Country  Unit Price     Revenue\n",
       "34866           NaN             NaN     NaN         NaN  641.532095"
      ]
     },
     "execution_count": 9,
     "metadata": {},
     "output_type": "execute_result"
    }
   ],
   "source": [
    "df.loc[[34866]]"
   ]
  },
  {
   "cell_type": "code",
   "execution_count": 10,
   "id": "88093928",
   "metadata": {},
   "outputs": [],
   "source": [
    "# Let's drop row 34866:\n",
    "df = df.drop(labels=[34866], axis=0)"
   ]
  },
  {
   "cell_type": "code",
   "execution_count": 11,
   "id": "d260f474",
   "metadata": {},
   "outputs": [
    {
     "data": {
      "text/plain": [
       "Customer Age       0\n",
       "Customer Gender    0\n",
       "Country            0\n",
       "Unit Price         0\n",
       "Revenue            0\n",
       "dtype: int64"
      ]
     },
     "execution_count": 11,
     "metadata": {},
     "output_type": "execute_result"
    }
   ],
   "source": [
    "df.isnull().sum()"
   ]
  },
  {
   "cell_type": "markdown",
   "id": "621878d5",
   "metadata": {},
   "source": [
    "Now we can convert \"Customer Age\" from \"float\" into \"int\":"
   ]
  },
  {
   "cell_type": "code",
   "execution_count": 12,
   "id": "be92777b",
   "metadata": {},
   "outputs": [],
   "source": [
    "df['Customer Age'] = df['Customer Age'].astype('int')"
   ]
  },
  {
   "cell_type": "code",
   "execution_count": 13,
   "id": "e6ed3de4",
   "metadata": {},
   "outputs": [
    {
     "name": "stdout",
     "output_type": "stream",
     "text": [
      "<class 'pandas.core.frame.DataFrame'>\n",
      "Int64Index: 34866 entries, 0 to 34865\n",
      "Data columns (total 5 columns):\n",
      " #   Column           Non-Null Count  Dtype  \n",
      "---  ------           --------------  -----  \n",
      " 0   Customer Age     34866 non-null  int32  \n",
      " 1   Customer Gender  34866 non-null  object \n",
      " 2   Country          34866 non-null  object \n",
      " 3   Unit Price       34866 non-null  float64\n",
      " 4   Revenue          34866 non-null  float64\n",
      "dtypes: float64(2), int32(1), object(2)\n",
      "memory usage: 1.5+ MB\n"
     ]
    }
   ],
   "source": [
    "df.info()"
   ]
  },
  {
   "cell_type": "markdown",
   "id": "78bc8d27",
   "metadata": {},
   "source": [
    "#### Customer Gender"
   ]
  },
  {
   "cell_type": "code",
   "execution_count": 14,
   "id": "23c5cb00",
   "metadata": {},
   "outputs": [
    {
     "data": {
      "text/html": [
       "<div>\n",
       "<style scoped>\n",
       "    .dataframe tbody tr th:only-of-type {\n",
       "        vertical-align: middle;\n",
       "    }\n",
       "\n",
       "    .dataframe tbody tr th {\n",
       "        vertical-align: top;\n",
       "    }\n",
       "\n",
       "    .dataframe thead th {\n",
       "        text-align: right;\n",
       "    }\n",
       "</style>\n",
       "<table border=\"1\" class=\"dataframe\">\n",
       "  <thead>\n",
       "    <tr style=\"text-align: right;\">\n",
       "      <th></th>\n",
       "      <th>Customer Age</th>\n",
       "      <th>Customer Gender</th>\n",
       "      <th>Country</th>\n",
       "      <th>Unit Price</th>\n",
       "      <th>Revenue</th>\n",
       "    </tr>\n",
       "  </thead>\n",
       "  <tbody>\n",
       "    <tr>\n",
       "      <th>0</th>\n",
       "      <td>29</td>\n",
       "      <td>F</td>\n",
       "      <td>United States</td>\n",
       "      <td>109.000000</td>\n",
       "      <td>109.0</td>\n",
       "    </tr>\n",
       "    <tr>\n",
       "      <th>1</th>\n",
       "      <td>29</td>\n",
       "      <td>F</td>\n",
       "      <td>United States</td>\n",
       "      <td>28.500000</td>\n",
       "      <td>57.0</td>\n",
       "    </tr>\n",
       "    <tr>\n",
       "      <th>2</th>\n",
       "      <td>29</td>\n",
       "      <td>F</td>\n",
       "      <td>United States</td>\n",
       "      <td>5.000000</td>\n",
       "      <td>15.0</td>\n",
       "    </tr>\n",
       "    <tr>\n",
       "      <th>...</th>\n",
       "      <td>...</td>\n",
       "      <td>...</td>\n",
       "      <td>...</td>\n",
       "      <td>...</td>\n",
       "      <td>...</td>\n",
       "    </tr>\n",
       "    <tr>\n",
       "      <th>34863</th>\n",
       "      <td>38</td>\n",
       "      <td>M</td>\n",
       "      <td>France</td>\n",
       "      <td>1583.000000</td>\n",
       "      <td>1583.0</td>\n",
       "    </tr>\n",
       "    <tr>\n",
       "      <th>34864</th>\n",
       "      <td>38</td>\n",
       "      <td>M</td>\n",
       "      <td>France</td>\n",
       "      <td>560.666667</td>\n",
       "      <td>1682.0</td>\n",
       "    </tr>\n",
       "    <tr>\n",
       "      <th>34865</th>\n",
       "      <td>38</td>\n",
       "      <td>M</td>\n",
       "      <td>France</td>\n",
       "      <td>1568.000000</td>\n",
       "      <td>1568.0</td>\n",
       "    </tr>\n",
       "  </tbody>\n",
       "</table>\n",
       "<p>34866 rows × 5 columns</p>\n",
       "</div>"
      ],
      "text/plain": [
       "       Customer Age Customer Gender        Country   Unit Price  Revenue\n",
       "0                29               F  United States   109.000000    109.0\n",
       "1                29               F  United States    28.500000     57.0\n",
       "2                29               F  United States     5.000000     15.0\n",
       "...             ...             ...            ...          ...      ...\n",
       "34863            38               M         France  1583.000000   1583.0\n",
       "34864            38               M         France   560.666667   1682.0\n",
       "34865            38               M         France  1568.000000   1568.0\n",
       "\n",
       "[34866 rows x 5 columns]"
      ]
     },
     "execution_count": 14,
     "metadata": {},
     "output_type": "execute_result"
    }
   ],
   "source": [
    "df"
   ]
  },
  {
   "cell_type": "markdown",
   "id": "3a1438c2",
   "metadata": {},
   "source": [
    "Let's convert \"Customer Gender\" into a dummy variable: \"0\" for M, \"1\" for F"
   ]
  },
  {
   "cell_type": "code",
   "execution_count": 15,
   "id": "d5e0e722",
   "metadata": {},
   "outputs": [],
   "source": [
    "df['Customer Gender'] = df['Customer Gender'].map({'M': 0,'F': 1})"
   ]
  },
  {
   "cell_type": "code",
   "execution_count": 16,
   "id": "0349dc78",
   "metadata": {},
   "outputs": [
    {
     "data": {
      "text/html": [
       "<div>\n",
       "<style scoped>\n",
       "    .dataframe tbody tr th:only-of-type {\n",
       "        vertical-align: middle;\n",
       "    }\n",
       "\n",
       "    .dataframe tbody tr th {\n",
       "        vertical-align: top;\n",
       "    }\n",
       "\n",
       "    .dataframe thead th {\n",
       "        text-align: right;\n",
       "    }\n",
       "</style>\n",
       "<table border=\"1\" class=\"dataframe\">\n",
       "  <thead>\n",
       "    <tr style=\"text-align: right;\">\n",
       "      <th></th>\n",
       "      <th>Customer Age</th>\n",
       "      <th>Customer Gender</th>\n",
       "      <th>Country</th>\n",
       "      <th>Unit Price</th>\n",
       "      <th>Revenue</th>\n",
       "    </tr>\n",
       "  </thead>\n",
       "  <tbody>\n",
       "    <tr>\n",
       "      <th>0</th>\n",
       "      <td>29</td>\n",
       "      <td>1</td>\n",
       "      <td>United States</td>\n",
       "      <td>109.000000</td>\n",
       "      <td>109.0</td>\n",
       "    </tr>\n",
       "    <tr>\n",
       "      <th>1</th>\n",
       "      <td>29</td>\n",
       "      <td>1</td>\n",
       "      <td>United States</td>\n",
       "      <td>28.500000</td>\n",
       "      <td>57.0</td>\n",
       "    </tr>\n",
       "    <tr>\n",
       "      <th>2</th>\n",
       "      <td>29</td>\n",
       "      <td>1</td>\n",
       "      <td>United States</td>\n",
       "      <td>5.000000</td>\n",
       "      <td>15.0</td>\n",
       "    </tr>\n",
       "    <tr>\n",
       "      <th>...</th>\n",
       "      <td>...</td>\n",
       "      <td>...</td>\n",
       "      <td>...</td>\n",
       "      <td>...</td>\n",
       "      <td>...</td>\n",
       "    </tr>\n",
       "    <tr>\n",
       "      <th>34863</th>\n",
       "      <td>38</td>\n",
       "      <td>0</td>\n",
       "      <td>France</td>\n",
       "      <td>1583.000000</td>\n",
       "      <td>1583.0</td>\n",
       "    </tr>\n",
       "    <tr>\n",
       "      <th>34864</th>\n",
       "      <td>38</td>\n",
       "      <td>0</td>\n",
       "      <td>France</td>\n",
       "      <td>560.666667</td>\n",
       "      <td>1682.0</td>\n",
       "    </tr>\n",
       "    <tr>\n",
       "      <th>34865</th>\n",
       "      <td>38</td>\n",
       "      <td>0</td>\n",
       "      <td>France</td>\n",
       "      <td>1568.000000</td>\n",
       "      <td>1568.0</td>\n",
       "    </tr>\n",
       "  </tbody>\n",
       "</table>\n",
       "<p>34866 rows × 5 columns</p>\n",
       "</div>"
      ],
      "text/plain": [
       "       Customer Age  Customer Gender        Country   Unit Price  Revenue\n",
       "0                29                1  United States   109.000000    109.0\n",
       "1                29                1  United States    28.500000     57.0\n",
       "2                29                1  United States     5.000000     15.0\n",
       "...             ...              ...            ...          ...      ...\n",
       "34863            38                0         France  1583.000000   1583.0\n",
       "34864            38                0         France   560.666667   1682.0\n",
       "34865            38                0         France  1568.000000   1568.0\n",
       "\n",
       "[34866 rows x 5 columns]"
      ]
     },
     "execution_count": 16,
     "metadata": {},
     "output_type": "execute_result"
    }
   ],
   "source": [
    "df"
   ]
  },
  {
   "cell_type": "code",
   "execution_count": 17,
   "id": "e77fc89b",
   "metadata": {},
   "outputs": [
    {
     "name": "stdout",
     "output_type": "stream",
     "text": [
      "<class 'pandas.core.frame.DataFrame'>\n",
      "Int64Index: 34866 entries, 0 to 34865\n",
      "Data columns (total 5 columns):\n",
      " #   Column           Non-Null Count  Dtype  \n",
      "---  ------           --------------  -----  \n",
      " 0   Customer Age     34866 non-null  int32  \n",
      " 1   Customer Gender  34866 non-null  int64  \n",
      " 2   Country          34866 non-null  object \n",
      " 3   Unit Price       34866 non-null  float64\n",
      " 4   Revenue          34866 non-null  float64\n",
      "dtypes: float64(2), int32(1), int64(1), object(1)\n",
      "memory usage: 1.5+ MB\n"
     ]
    }
   ],
   "source": [
    "df.info()"
   ]
  },
  {
   "cell_type": "markdown",
   "id": "dec15dbe",
   "metadata": {},
   "source": [
    "#### Country"
   ]
  },
  {
   "cell_type": "markdown",
   "id": "8ac32e40",
   "metadata": {},
   "source": [
    "What countries do we have in this dataset?"
   ]
  },
  {
   "cell_type": "code",
   "execution_count": 18,
   "id": "d78de2d1",
   "metadata": {},
   "outputs": [
    {
     "data": {
      "text/plain": [
       "United States     18076\n",
       "United Kingdom     6421\n",
       "Germany            5201\n",
       "France             5168\n",
       "Name: Country, dtype: int64"
      ]
     },
     "execution_count": 18,
     "metadata": {},
     "output_type": "execute_result"
    }
   ],
   "source": [
    "df[\"Country\"].value_counts()"
   ]
  },
  {
   "cell_type": "markdown",
   "id": "cabdc7ad",
   "metadata": {},
   "source": [
    "Two possibilities:\n",
    "\n",
    "a) I will drop all other countries and will focus on United States (the country with most observations)\n",
    "\n",
    "b) I create a dummy variable for each single country (e.g. United States \"0/1\", Germany \"0/1\", etc)\n",
    "\n",
    " **To keep my model simple, my regression model will focus on the United States market.\n",
    " Let's keep only the rows where the column \"Country\" has the value \"United States\":**"
   ]
  },
  {
   "cell_type": "code",
   "execution_count": 19,
   "id": "54fcf5df",
   "metadata": {},
   "outputs": [],
   "source": [
    "df = df[(df[\"Country\"] == \"United States\")]"
   ]
  },
  {
   "cell_type": "code",
   "execution_count": 20,
   "id": "52f56b5c",
   "metadata": {
    "scrolled": false
   },
   "outputs": [
    {
     "data": {
      "text/plain": [
       "United States    18076\n",
       "Name: Country, dtype: int64"
      ]
     },
     "execution_count": 20,
     "metadata": {},
     "output_type": "execute_result"
    }
   ],
   "source": [
    "df[\"Country\"].value_counts()"
   ]
  },
  {
   "cell_type": "markdown",
   "id": "db3888af",
   "metadata": {},
   "source": [
    "#### \"Revenue\""
   ]
  },
  {
   "cell_type": "markdown",
   "id": "b377d2e1",
   "metadata": {},
   "source": [
    "This is the money spent by the customer with their single purchase, hence the revenue for the company. The information comes from the customer receipt. "
   ]
  },
  {
   "cell_type": "code",
   "execution_count": 21,
   "id": "f3477371",
   "metadata": {},
   "outputs": [
    {
     "data": {
      "text/html": [
       "<div>\n",
       "<style scoped>\n",
       "    .dataframe tbody tr th:only-of-type {\n",
       "        vertical-align: middle;\n",
       "    }\n",
       "\n",
       "    .dataframe tbody tr th {\n",
       "        vertical-align: top;\n",
       "    }\n",
       "\n",
       "    .dataframe thead th {\n",
       "        text-align: right;\n",
       "    }\n",
       "</style>\n",
       "<table border=\"1\" class=\"dataframe\">\n",
       "  <thead>\n",
       "    <tr style=\"text-align: right;\">\n",
       "      <th></th>\n",
       "      <th>Customer Age</th>\n",
       "      <th>Customer Gender</th>\n",
       "      <th>Country</th>\n",
       "      <th>Unit Price</th>\n",
       "      <th>Revenue</th>\n",
       "    </tr>\n",
       "  </thead>\n",
       "  <tbody>\n",
       "    <tr>\n",
       "      <th>0</th>\n",
       "      <td>29</td>\n",
       "      <td>1</td>\n",
       "      <td>United States</td>\n",
       "      <td>109.0</td>\n",
       "      <td>109.0</td>\n",
       "    </tr>\n",
       "    <tr>\n",
       "      <th>1</th>\n",
       "      <td>29</td>\n",
       "      <td>1</td>\n",
       "      <td>United States</td>\n",
       "      <td>28.5</td>\n",
       "      <td>57.0</td>\n",
       "    </tr>\n",
       "    <tr>\n",
       "      <th>2</th>\n",
       "      <td>29</td>\n",
       "      <td>1</td>\n",
       "      <td>United States</td>\n",
       "      <td>5.0</td>\n",
       "      <td>15.0</td>\n",
       "    </tr>\n",
       "    <tr>\n",
       "      <th>...</th>\n",
       "      <td>...</td>\n",
       "      <td>...</td>\n",
       "      <td>...</td>\n",
       "      <td>...</td>\n",
       "      <td>...</td>\n",
       "    </tr>\n",
       "    <tr>\n",
       "      <th>34721</th>\n",
       "      <td>61</td>\n",
       "      <td>1</td>\n",
       "      <td>United States</td>\n",
       "      <td>529.0</td>\n",
       "      <td>529.0</td>\n",
       "    </tr>\n",
       "    <tr>\n",
       "      <th>34722</th>\n",
       "      <td>61</td>\n",
       "      <td>1</td>\n",
       "      <td>United States</td>\n",
       "      <td>131.0</td>\n",
       "      <td>131.0</td>\n",
       "    </tr>\n",
       "    <tr>\n",
       "      <th>34723</th>\n",
       "      <td>61</td>\n",
       "      <td>1</td>\n",
       "      <td>United States</td>\n",
       "      <td>331.0</td>\n",
       "      <td>662.0</td>\n",
       "    </tr>\n",
       "  </tbody>\n",
       "</table>\n",
       "<p>18076 rows × 5 columns</p>\n",
       "</div>"
      ],
      "text/plain": [
       "       Customer Age  Customer Gender        Country  Unit Price  Revenue\n",
       "0                29                1  United States       109.0    109.0\n",
       "1                29                1  United States        28.5     57.0\n",
       "2                29                1  United States         5.0     15.0\n",
       "...             ...              ...            ...         ...      ...\n",
       "34721            61                1  United States       529.0    529.0\n",
       "34722            61                1  United States       131.0    131.0\n",
       "34723            61                1  United States       331.0    662.0\n",
       "\n",
       "[18076 rows x 5 columns]"
      ]
     },
     "execution_count": 21,
     "metadata": {},
     "output_type": "execute_result"
    }
   ],
   "source": [
    "df"
   ]
  },
  {
   "cell_type": "markdown",
   "id": "d4db6726",
   "metadata": {},
   "source": [
    "We leave \"Revenue\" as a float variable.\n"
   ]
  },
  {
   "cell_type": "markdown",
   "id": "0e831a38",
   "metadata": {},
   "source": [
    "#### Duplicates"
   ]
  },
  {
   "cell_type": "code",
   "execution_count": 22,
   "id": "b331108d",
   "metadata": {},
   "outputs": [
    {
     "data": {
      "text/html": [
       "<div>\n",
       "<style scoped>\n",
       "    .dataframe tbody tr th:only-of-type {\n",
       "        vertical-align: middle;\n",
       "    }\n",
       "\n",
       "    .dataframe tbody tr th {\n",
       "        vertical-align: top;\n",
       "    }\n",
       "\n",
       "    .dataframe thead th {\n",
       "        text-align: right;\n",
       "    }\n",
       "</style>\n",
       "<table border=\"1\" class=\"dataframe\">\n",
       "  <thead>\n",
       "    <tr style=\"text-align: right;\">\n",
       "      <th></th>\n",
       "      <th>Customer Age</th>\n",
       "      <th>Customer Gender</th>\n",
       "      <th>Country</th>\n",
       "      <th>Unit Price</th>\n",
       "      <th>Revenue</th>\n",
       "    </tr>\n",
       "  </thead>\n",
       "  <tbody>\n",
       "    <tr>\n",
       "      <th>24682</th>\n",
       "      <td>61</td>\n",
       "      <td>0</td>\n",
       "      <td>United States</td>\n",
       "      <td>0.666667</td>\n",
       "      <td>2.0</td>\n",
       "    </tr>\n",
       "    <tr>\n",
       "      <th>24692</th>\n",
       "      <td>61</td>\n",
       "      <td>0</td>\n",
       "      <td>United States</td>\n",
       "      <td>0.666667</td>\n",
       "      <td>2.0</td>\n",
       "    </tr>\n",
       "    <tr>\n",
       "      <th>10965</th>\n",
       "      <td>33</td>\n",
       "      <td>0</td>\n",
       "      <td>United States</td>\n",
       "      <td>1.500000</td>\n",
       "      <td>3.0</td>\n",
       "    </tr>\n",
       "    <tr>\n",
       "      <th>10949</th>\n",
       "      <td>33</td>\n",
       "      <td>0</td>\n",
       "      <td>United States</td>\n",
       "      <td>1.500000</td>\n",
       "      <td>3.0</td>\n",
       "    </tr>\n",
       "    <tr>\n",
       "      <th>3613</th>\n",
       "      <td>40</td>\n",
       "      <td>0</td>\n",
       "      <td>United States</td>\n",
       "      <td>5.000000</td>\n",
       "      <td>5.0</td>\n",
       "    </tr>\n",
       "    <tr>\n",
       "      <th>...</th>\n",
       "      <td>...</td>\n",
       "      <td>...</td>\n",
       "      <td>...</td>\n",
       "      <td>...</td>\n",
       "      <td>...</td>\n",
       "    </tr>\n",
       "    <tr>\n",
       "      <th>18931</th>\n",
       "      <td>45</td>\n",
       "      <td>0</td>\n",
       "      <td>United States</td>\n",
       "      <td>2381.000000</td>\n",
       "      <td>2381.0</td>\n",
       "    </tr>\n",
       "    <tr>\n",
       "      <th>10633</th>\n",
       "      <td>31</td>\n",
       "      <td>0</td>\n",
       "      <td>United States</td>\n",
       "      <td>803.000000</td>\n",
       "      <td>2409.0</td>\n",
       "    </tr>\n",
       "    <tr>\n",
       "      <th>10620</th>\n",
       "      <td>31</td>\n",
       "      <td>0</td>\n",
       "      <td>United States</td>\n",
       "      <td>803.000000</td>\n",
       "      <td>2409.0</td>\n",
       "    </tr>\n",
       "    <tr>\n",
       "      <th>9446</th>\n",
       "      <td>45</td>\n",
       "      <td>1</td>\n",
       "      <td>United States</td>\n",
       "      <td>2508.000000</td>\n",
       "      <td>2508.0</td>\n",
       "    </tr>\n",
       "    <tr>\n",
       "      <th>19821</th>\n",
       "      <td>45</td>\n",
       "      <td>1</td>\n",
       "      <td>United States</td>\n",
       "      <td>2508.000000</td>\n",
       "      <td>2508.0</td>\n",
       "    </tr>\n",
       "  </tbody>\n",
       "</table>\n",
       "<p>1625 rows × 5 columns</p>\n",
       "</div>"
      ],
      "text/plain": [
       "       Customer Age  Customer Gender        Country   Unit Price  Revenue\n",
       "24682            61                0  United States     0.666667      2.0\n",
       "24692            61                0  United States     0.666667      2.0\n",
       "10965            33                0  United States     1.500000      3.0\n",
       "10949            33                0  United States     1.500000      3.0\n",
       "3613             40                0  United States     5.000000      5.0\n",
       "...             ...              ...            ...          ...      ...\n",
       "18931            45                0  United States  2381.000000   2381.0\n",
       "10633            31                0  United States   803.000000   2409.0\n",
       "10620            31                0  United States   803.000000   2409.0\n",
       "9446             45                1  United States  2508.000000   2508.0\n",
       "19821            45                1  United States  2508.000000   2508.0\n",
       "\n",
       "[1625 rows x 5 columns]"
      ]
     },
     "execution_count": 22,
     "metadata": {},
     "output_type": "execute_result"
    }
   ],
   "source": [
    "pd.set_option(\"display.max_rows\", 12)\n",
    "df[df.duplicated(keep=False)].sort_values(by=\"Revenue\")"
   ]
  },
  {
   "cell_type": "markdown",
   "id": "6b1eeb4a",
   "metadata": {},
   "source": [
    "We can see that there are a few duplicates in this dataset. Usually duplicates get deleted, but for this particular project I chose to leave them instead. This is because it is not unrealistic that some rows report the exact same values: there can be multiple people of the same age, gender and country who made the same purchase.\n",
    "<br>\n",
    "<br>\n",
    "<br>"
   ]
  },
  {
   "cell_type": "markdown",
   "id": "47284855",
   "metadata": {},
   "source": [
    "Here below I drop the column \"Country\", because now the dataset has been narrowed to the US, hence I don't need this column anymore:"
   ]
  },
  {
   "cell_type": "code",
   "execution_count": 24,
   "id": "1a018604",
   "metadata": {},
   "outputs": [
    {
     "data": {
      "text/html": [
       "<div>\n",
       "<style scoped>\n",
       "    .dataframe tbody tr th:only-of-type {\n",
       "        vertical-align: middle;\n",
       "    }\n",
       "\n",
       "    .dataframe tbody tr th {\n",
       "        vertical-align: top;\n",
       "    }\n",
       "\n",
       "    .dataframe thead th {\n",
       "        text-align: right;\n",
       "    }\n",
       "</style>\n",
       "<table border=\"1\" class=\"dataframe\">\n",
       "  <thead>\n",
       "    <tr style=\"text-align: right;\">\n",
       "      <th></th>\n",
       "      <th>Customer Age</th>\n",
       "      <th>Customer Gender</th>\n",
       "      <th>Unit Price</th>\n",
       "      <th>Revenue</th>\n",
       "    </tr>\n",
       "  </thead>\n",
       "  <tbody>\n",
       "    <tr>\n",
       "      <th>0</th>\n",
       "      <td>29</td>\n",
       "      <td>1</td>\n",
       "      <td>109.000000</td>\n",
       "      <td>109.0</td>\n",
       "    </tr>\n",
       "    <tr>\n",
       "      <th>1</th>\n",
       "      <td>29</td>\n",
       "      <td>1</td>\n",
       "      <td>28.500000</td>\n",
       "      <td>57.0</td>\n",
       "    </tr>\n",
       "    <tr>\n",
       "      <th>2</th>\n",
       "      <td>29</td>\n",
       "      <td>1</td>\n",
       "      <td>5.000000</td>\n",
       "      <td>15.0</td>\n",
       "    </tr>\n",
       "    <tr>\n",
       "      <th>3</th>\n",
       "      <td>29</td>\n",
       "      <td>1</td>\n",
       "      <td>116.500000</td>\n",
       "      <td>233.0</td>\n",
       "    </tr>\n",
       "    <tr>\n",
       "      <th>4</th>\n",
       "      <td>29</td>\n",
       "      <td>1</td>\n",
       "      <td>41.666667</td>\n",
       "      <td>125.0</td>\n",
       "    </tr>\n",
       "    <tr>\n",
       "      <th>...</th>\n",
       "      <td>...</td>\n",
       "      <td>...</td>\n",
       "      <td>...</td>\n",
       "      <td>...</td>\n",
       "    </tr>\n",
       "    <tr>\n",
       "      <th>34717</th>\n",
       "      <td>61</td>\n",
       "      <td>1</td>\n",
       "      <td>17.333333</td>\n",
       "      <td>52.0</td>\n",
       "    </tr>\n",
       "    <tr>\n",
       "      <th>34718</th>\n",
       "      <td>61</td>\n",
       "      <td>1</td>\n",
       "      <td>113.500000</td>\n",
       "      <td>227.0</td>\n",
       "    </tr>\n",
       "    <tr>\n",
       "      <th>34721</th>\n",
       "      <td>61</td>\n",
       "      <td>1</td>\n",
       "      <td>529.000000</td>\n",
       "      <td>529.0</td>\n",
       "    </tr>\n",
       "    <tr>\n",
       "      <th>34722</th>\n",
       "      <td>61</td>\n",
       "      <td>1</td>\n",
       "      <td>131.000000</td>\n",
       "      <td>131.0</td>\n",
       "    </tr>\n",
       "    <tr>\n",
       "      <th>34723</th>\n",
       "      <td>61</td>\n",
       "      <td>1</td>\n",
       "      <td>331.000000</td>\n",
       "      <td>662.0</td>\n",
       "    </tr>\n",
       "  </tbody>\n",
       "</table>\n",
       "<p>18076 rows × 4 columns</p>\n",
       "</div>"
      ],
      "text/plain": [
       "       Customer Age  Customer Gender  Unit Price  Revenue\n",
       "0                29                1  109.000000    109.0\n",
       "1                29                1   28.500000     57.0\n",
       "2                29                1    5.000000     15.0\n",
       "3                29                1  116.500000    233.0\n",
       "4                29                1   41.666667    125.0\n",
       "...             ...              ...         ...      ...\n",
       "34717            61                1   17.333333     52.0\n",
       "34718            61                1  113.500000    227.0\n",
       "34721            61                1  529.000000    529.0\n",
       "34722            61                1  131.000000    131.0\n",
       "34723            61                1  331.000000    662.0\n",
       "\n",
       "[18076 rows x 4 columns]"
      ]
     },
     "execution_count": 24,
     "metadata": {},
     "output_type": "execute_result"
    }
   ],
   "source": [
    "df = df.drop(columns=[\"Country\"])\n",
    "df"
   ]
  },
  {
   "cell_type": "markdown",
   "id": "7b597d99",
   "metadata": {},
   "source": [
    "# Linear regression analysis"
   ]
  },
  {
   "cell_type": "markdown",
   "id": "febaa769",
   "metadata": {},
   "source": [
    "With this regression analysis we want to see whether the dependent variable \"Revenue\" is influenced by customer age, customer gender and unit price "
   ]
  },
  {
   "cell_type": "code",
   "execution_count": 25,
   "id": "03fdd791",
   "metadata": {},
   "outputs": [],
   "source": [
    "y = df[\"Revenue\"]\n",
    "X = df[[\"Customer Age\", \"Customer Gender\", \"Unit Price\"]]"
   ]
  },
  {
   "cell_type": "markdown",
   "id": "33999067",
   "metadata": {},
   "source": [
    "### 2.1. Checking for multicollinearity"
   ]
  },
  {
   "cell_type": "code",
   "execution_count": 26,
   "id": "743df250",
   "metadata": {},
   "outputs": [],
   "source": [
    "import pandas as pd\n",
    "import numpy as np\n",
    "from statsmodels.stats.outliers_influence import variance_inflation_factor"
   ]
  },
  {
   "cell_type": "code",
   "execution_count": 27,
   "id": "ffc1d55e",
   "metadata": {},
   "outputs": [
    {
     "data": {
      "text/html": [
       "<div>\n",
       "<style scoped>\n",
       "    .dataframe tbody tr th:only-of-type {\n",
       "        vertical-align: middle;\n",
       "    }\n",
       "\n",
       "    .dataframe tbody tr th {\n",
       "        vertical-align: top;\n",
       "    }\n",
       "\n",
       "    .dataframe thead th {\n",
       "        text-align: right;\n",
       "    }\n",
       "</style>\n",
       "<table border=\"1\" class=\"dataframe\">\n",
       "  <thead>\n",
       "    <tr style=\"text-align: right;\">\n",
       "      <th></th>\n",
       "      <th>Variable</th>\n",
       "      <th>VIF</th>\n",
       "    </tr>\n",
       "  </thead>\n",
       "  <tbody>\n",
       "    <tr>\n",
       "      <th>0</th>\n",
       "      <td>Customer Age</td>\n",
       "      <td>2.287840</td>\n",
       "    </tr>\n",
       "    <tr>\n",
       "      <th>1</th>\n",
       "      <td>Customer Gender</td>\n",
       "      <td>1.825017</td>\n",
       "    </tr>\n",
       "    <tr>\n",
       "      <th>2</th>\n",
       "      <td>Unit Price</td>\n",
       "      <td>1.509524</td>\n",
       "    </tr>\n",
       "  </tbody>\n",
       "</table>\n",
       "</div>"
      ],
      "text/plain": [
       "          Variable       VIF\n",
       "0     Customer Age  2.287840\n",
       "1  Customer Gender  1.825017\n",
       "2       Unit Price  1.509524"
      ]
     },
     "execution_count": 27,
     "metadata": {},
     "output_type": "execute_result"
    }
   ],
   "source": [
    "# Variance Inflation Factor dataframe\n",
    "vif_data = pd.DataFrame()\n",
    "vif_data[\"Variable\"] = X.columns\n",
    "  \n",
    "# calculating VIF for each feature\n",
    "vif_data[\"VIF\"] = [variance_inflation_factor(X.values, i)\n",
    "                          for i in range(X.shape[1])]\n",
    "  \n",
    "vif_data"
   ]
  },
  {
   "cell_type": "markdown",
   "id": "116fc82d",
   "metadata": {},
   "source": [
    "### 2.2. Linear Regression Model and results"
   ]
  },
  {
   "cell_type": "code",
   "execution_count": 28,
   "id": "df6530cc",
   "metadata": {},
   "outputs": [],
   "source": [
    "# Splitting the dataset into the Training set and Test set\n",
    "from sklearn.model_selection import train_test_split\n",
    "pd.options.mode.chained_assignment = None\n",
    "X_train, X_test, y_train, y_test = train_test_split(X, y, test_size = 0.3, random_state = 35)"
   ]
  },
  {
   "cell_type": "code",
   "execution_count": 29,
   "id": "156b5fa7",
   "metadata": {},
   "outputs": [
    {
     "name": "stdout",
     "output_type": "stream",
     "text": [
      "Shape of X_train:  (12653, 3)\n",
      "Shape of X_test:  (5423, 3)\n",
      "Shape of y_train:  (12653,)\n",
      "Shape of y_test (5423,)\n"
     ]
    }
   ],
   "source": [
    "print(\"Shape of X_train: \",X_train.shape)\n",
    "print(\"Shape of X_test: \", X_test.shape)\n",
    "print(\"Shape of y_train: \",y_train.shape)\n",
    "print(\"Shape of y_test\",y_test.shape)"
   ]
  },
  {
   "cell_type": "code",
   "execution_count": 30,
   "id": "9808d59a",
   "metadata": {},
   "outputs": [
    {
     "data": {
      "image/png": "[encoded data removed]",
      "text/plain": [
       "<Figure size 432x432 with 2 Axes>"
      ]
     },
     "metadata": {
      "needs_background": "light"
     },
     "output_type": "display_data"
    }
   ],
   "source": [
    "# import libraries\n",
    "import matplotlib.pyplot as plt\n",
    "import seaborn as sns\n",
    "\n",
    "# set figure size\n",
    "plt.figure(figsize=(6,6))\n",
    "\n",
    "# Generate a mask to only show the bottom triangle\n",
    "mask = np.triu(np.ones_like(df.corr(), dtype=bool))\n",
    "\n",
    "# generate heatmap\n",
    "sns.heatmap(df.corr(), annot=True, mask=mask, vmin=-1, vmax=1)\n",
    "plt.title('Correlation Coefficient Of Predictors')\n",
    "plt.show()"
   ]
  },
  {
   "cell_type": "code",
   "execution_count": 31,
   "id": "89edd621",
   "metadata": {},
   "outputs": [],
   "source": [
    "from sklearn.linear_model import LinearRegression\n",
    "model = LinearRegression()\n",
    "model.fit(X_train, y_train)\n",
    "from sklearn.metrics import r2_score\n",
    "from sklearn.metrics import mean_squared_error\n",
    "from sklearn.model_selection import cross_val_score"
   ]
  },
  {
   "cell_type": "code",
   "execution_count": 32,
   "id": "c067ddbf",
   "metadata": {},
   "outputs": [
    {
     "name": "stdout",
     "output_type": "stream",
     "text": [
      "CV:  [0.72133823 0.712744   0.72847279 0.72905923 0.72993619 0.71504565\n",
      " 0.7167811 ]\n",
      "\n",
      "R2_score (train):  0.7222414093646248\n",
      "\n",
      "R2_score (test):  0.7278559233258933\n"
     ]
    }
   ],
   "source": [
    "# Cross Validation Score of the Test set results\n",
    "cv_linear = cross_val_score(model, X = X_train, y = y_train, cv=7)\n",
    "\n",
    "# R2 Score of the Train set results\n",
    "y_pred_linear_train = model.predict(X_train)\n",
    "r2_score_linear_train = r2_score(y_train, y_pred_linear_train)\n",
    "\n",
    "# R2 Score of the Test set results\n",
    "y_pred_linear_test = model.predict(X_test)\n",
    "r2_score_linear_test = r2_score(y_test, y_pred_linear_test)\n",
    "\n",
    "print(\"CV: \", cv_linear)\n",
    "print()\n",
    "print('R2_score (train): ', r2_score_linear_train)\n",
    "print()\n",
    "print('R2_score (test): ', r2_score_linear_test)"
   ]
  },
  {
   "cell_type": "markdown",
   "id": "68388cc2",
   "metadata": {},
   "source": [
    "## 3. Conclusion"
   ]
  },
  {
   "cell_type": "markdown",
   "id": "32662fd4",
   "metadata": {},
   "source": [
    "In this model I analyzed the correlation between the sales of the store and the variables \"customer age\", \"customer gender\" and \"product price\".\n",
    "\n",
    "***Correlation between sales and price***\n",
    "<br>\n",
    "\n",
    "We usually expect that the \"price-sales\" relationship is the following: when price decreases, the sales increase.\n",
    "The results of this regression show the opposite trend instead: if the price increases, the sales increase too. This is not something that happens very often, but still it is not impossible: sometimes it depends on the product-niche and on the product itself (e.g. when the brand is very strong, then the customer is willing to pay for the brand).  \n",
    "\n",
    "***Correlation between sales and customer features***\n",
    "<br>\n",
    "\n",
    "I expected to find some correlation between the sales and the customer features, for example \"The older the customer, the higher the purchase\", or some information about a possible correlation between the customer gender and the sales, but the model didn't show such correlations. \n",
    "\n",
    "The cross-validation scores (0,7) and the R squared (0,7) show a good model fit for this data."
   ]
  },
  {
   "cell_type": "code",
   "execution_count": null,
   "id": "b2dfe0bd",
   "metadata": {},
   "outputs": [],
   "source": []
  }
 ],
 "metadata": {
  "kernelspec": {
   "display_name": "Python 3 (ipykernel)",
   "language": "python",
   "name": "python3"
  },
  "language_info": {
   "codemirror_mode": {
    "name": "ipython",
    "version": 3
   },
   "file_extension": ".py",
   "mimetype": "text/x-python",
   "name": "python",
   "nbconvert_exporter": "python",
   "pygments_lexer": "ipython3",
   "version": "3.9.7"
  }
 },
 "nbformat": 4,
 "nbformat_minor": 5
}
