{
 "cells": [
  {
   "cell_type": "markdown",
   "id": "76e6948e",
   "metadata": {},
   "source": [
    "# Revenue of a bike retail store: multiple linear regression\n",
    "\n",
    "                Project for the course: \"Mathematics for machine learning\" by Opencampus.sh\n",
    "                                Project by: Miriam Mesghennà"
   ]
  },
  {
   "attachments": {
    "bike%20shop-2.jpg": {
     "image/jpeg": "[encoded data removed]"
    }
   },
   "cell_type": "markdown",
   "id": "6a04f7fe",
   "metadata": {},
   "source": [
    "![bike%20shop-2.jpg](attachment:bike%20shop-2.jpg)"
   ]
  },
  {
   "cell_type": "markdown",
   "id": "80dd2c82",
   "metadata": {},
   "source": [
    "This project aims at predicting the sales of a bike company. In order to do that, I will check if there is a correlation between the money spent by a customer purchase (\"Revenue\" column) and the following variables: customer age, customer gender and product price. \n",
    "\n",
    "Dataset source:\n",
    "\n",
    "https://www.kaggle.com/datasets/thedevastator/analyzing-customer-spending-habits-to-improve-sa?resource=download\n",
    "\n",
    "\n",
    "## Contents\n",
    "\n",
    "### 1) Analysis of the dataset and data cleaning\n",
    "     \n",
    "     1.1. Dropping irrelevant columns\n",
    "     1.2. Information about the columns\n",
    "     1.3. Data Cleaning\n",
    "     \n",
    "### 2) Linear regression analysis\n",
    "\n",
    "    2.1. Checking for multicollinearity\n",
    "    2.2. Linear regression model and results\n",
    "\n",
    "### 3) Conclusion"
   ]
  },
  {
   "cell_type": "markdown",
   "id": "9cb29edd",
   "metadata": {},
   "source": [
    "<br>\n",
    "<br>\n",
    "<br>\n",
    "\n",
    "#### 1.1. Dropping irrelevant columns"
   ]
  },
  {
   "cell_type": "code",
   "execution_count": null,
   "id": "fb7fde11",
   "metadata": {},
   "outputs": [],
   "source": [
    "import pandas as pd"
   ]
  },
  {
   "cell_type": "code",
   "execution_count": null,
   "id": "da052bc7",
   "metadata": {},
   "outputs": [],
   "source": [
    "pd.set_option(\"display.max_rows\", 7)\n",
    "df = pd.read_csv(\"Bike_store_data.csv\")\n",
    "df"
   ]
  },
  {
   "cell_type": "markdown",
   "id": "239939d6",
   "metadata": {},
   "source": [
    "Let's drop the columns \"index\", \"Date\", \"Year\", \"Month\", \"State\", \"Product Category\", \"Sub Category\",\"Quantity\", \"Unit Cost\", \"Column1\":"
   ]
  },
  {
   "cell_type": "code",
   "execution_count": null,
   "id": "525207b1",
   "metadata": {},
   "outputs": [],
   "source": [
    "df = df.drop(columns=[\"index\", \"Date\", \"Year\", \"Month\", \"State\", \"Product Category\",\"Sub Category\",\"Quantity\", \"Unit Cost\", \"Cost\", \"Column1\"])"
   ]
  },
  {
   "cell_type": "code",
   "execution_count": null,
   "id": "56cd7939",
   "metadata": {},
   "outputs": [],
   "source": [
    "df"
   ]
  },
  {
   "cell_type": "markdown",
   "id": "9c5e1da5",
   "metadata": {},
   "source": [
    "### 1.2. Information about the columns"
   ]
  },
  {
   "cell_type": "code",
   "execution_count": null,
   "id": "e531e223",
   "metadata": {},
   "outputs": [],
   "source": [
    "df.info()"
   ]
  },
  {
   "cell_type": "markdown",
   "id": "058b4f8a",
   "metadata": {},
   "source": [
    "### 1.3. Data cleaning"
   ]
  },
  {
   "cell_type": "markdown",
   "id": "5f91a66e",
   "metadata": {},
   "source": [
    "#### Customer Age"
   ]
  },
  {
   "cell_type": "code",
   "execution_count": null,
   "id": "33fae843",
   "metadata": {},
   "outputs": [],
   "source": [
    "df"
   ]
  },
  {
   "cell_type": "markdown",
   "id": "29c482c6",
   "metadata": {},
   "source": [
    "\"Customer Age\" is a \"float\" Datatype: let's convert it into an \"integer\" datatype. \n",
    "First let's make sure there are no  NaN (not a number) values in the whole dataset:"
   ]
  },
  {
   "cell_type": "code",
   "execution_count": null,
   "id": "3c97d115",
   "metadata": {},
   "outputs": [],
   "source": [
    "df.isnull().sum()"
   ]
  },
  {
   "cell_type": "code",
   "execution_count": null,
   "id": "7bfc1dca",
   "metadata": {},
   "outputs": [],
   "source": [
    "df.isnull()"
   ]
  },
  {
   "cell_type": "markdown",
   "id": "d8a7875e",
   "metadata": {},
   "source": [
    "Row 34866 has NaN cells. Let's take a closer look at this row:"
   ]
  },
  {
   "cell_type": "code",
   "execution_count": null,
   "id": "10a76f9f",
   "metadata": {},
   "outputs": [],
   "source": [
    "df.loc[[34866]]"
   ]
  },
  {
   "cell_type": "code",
   "execution_count": null,
   "id": "88093928",
   "metadata": {},
   "outputs": [],
   "source": [
    "# Let's drop row 34866:\n",
    "df = df.drop(labels=[34866], axis=0)"
   ]
  },
  {
   "cell_type": "code",
   "execution_count": null,
   "id": "d260f474",
   "metadata": {},
   "outputs": [],
   "source": [
    "df.isnull().sum()"
   ]
  },
  {
   "cell_type": "markdown",
   "id": "621878d5",
   "metadata": {},
   "source": [
    "Now we can convert \"Customer Age\" from \"float\" into \"int\":"
   ]
  },
  {
   "cell_type": "code",
   "execution_count": null,
   "id": "be92777b",
   "metadata": {},
   "outputs": [],
   "source": [
    "df['Customer Age'] = df['Customer Age'].astype('int')"
   ]
  },
  {
   "cell_type": "code",
   "execution_count": null,
   "id": "e6ed3de4",
   "metadata": {},
   "outputs": [],
   "source": [
    "df.info()"
   ]
  },
  {
   "cell_type": "markdown",
   "id": "78bc8d27",
   "metadata": {},
   "source": [
    "#### Customer Gender"
   ]
  },
  {
   "cell_type": "code",
   "execution_count": null,
   "id": "23c5cb00",
   "metadata": {},
   "outputs": [],
   "source": [
    "df"
   ]
  },
  {
   "cell_type": "markdown",
   "id": "3a1438c2",
   "metadata": {},
   "source": [
    "Let's convert \"Customer Gender\" into a dummy variable: \"0\" for M, \"1\" for F"
   ]
  },
  {
   "cell_type": "code",
   "execution_count": null,
   "id": "d5e0e722",
   "metadata": {},
   "outputs": [],
   "source": [
    "df['Customer Gender'] = df['Customer Gender'].map({'M': 0,'F': 1})"
   ]
  },
  {
   "cell_type": "code",
   "execution_count": null,
   "id": "0349dc78",
   "metadata": {},
   "outputs": [],
   "source": [
    "df"
   ]
  },
  {
   "cell_type": "code",
   "execution_count": null,
   "id": "e77fc89b",
   "metadata": {},
   "outputs": [],
   "source": [
    "df.info()"
   ]
  },
  {
   "cell_type": "markdown",
   "id": "dec15dbe",
   "metadata": {},
   "source": [
    "#### Country"
   ]
  },
  {
   "cell_type": "markdown",
   "id": "8ac32e40",
   "metadata": {},
   "source": [
    "What countries do we have in this dataset?"
   ]
  },
  {
   "cell_type": "code",
   "execution_count": null,
   "id": "d78de2d1",
   "metadata": {},
   "outputs": [],
   "source": [
    "df[\"Country\"].value_counts()"
   ]
  },
  {
   "cell_type": "markdown",
   "id": "cabdc7ad",
   "metadata": {},
   "source": [
    "Two possibilities:\n",
    "\n",
    "a) I will drop all other countries and will focus on United States (the country with most observations)\n",
    "\n",
    "b) I create a dummy variable for each single country (e.g. United States \"0/1\", Germany \"0/1\", etc)\n",
    "\n",
    " **To keep my model simple, my regression model will focus on the United States market.\n",
    " Let's keep only the rows where the column \"Country\" has the value \"United States\":**"
   ]
  },
  {
   "cell_type": "code",
   "execution_count": null,
   "id": "54fcf5df",
   "metadata": {},
   "outputs": [],
   "source": [
    "df = df[(df[\"Country\"] == \"United States\")]"
   ]
  },
  {
   "cell_type": "code",
   "execution_count": null,
   "id": "52f56b5c",
   "metadata": {
    "scrolled": false
   },
   "outputs": [],
   "source": [
    "df[\"Country\"].value_counts()"
   ]
  },
  {
   "cell_type": "markdown",
   "id": "db3888af",
   "metadata": {},
   "source": [
    "#### \"Revenue\""
   ]
  },
  {
   "cell_type": "markdown",
   "id": "b377d2e1",
   "metadata": {},
   "source": [
    "This is the money spent by the customer with their single purchase, hence the revenue for the company. The information comes from the customer receipt. "
   ]
  },
  {
   "cell_type": "code",
   "execution_count": null,
   "id": "f3477371",
   "metadata": {},
   "outputs": [],
   "source": [
    "df"
   ]
  },
  {
   "cell_type": "markdown",
   "id": "d4db6726",
   "metadata": {},
   "source": [
    "We leave \"Revenue\" as a float variable.\n"
   ]
  },
  {
   "cell_type": "markdown",
   "id": "0e831a38",
   "metadata": {},
   "source": [
    "#### Duplicates"
   ]
  },
  {
   "cell_type": "code",
   "execution_count": null,
   "id": "b331108d",
   "metadata": {},
   "outputs": [],
   "source": [
    "pd.set_option(\"display.max_rows\", 12)\n",
    "df[df.duplicated(keep=False)].sort_values(by=\"Revenue\")"
   ]
  },
  {
   "cell_type": "markdown",
   "id": "6b1eeb4a",
   "metadata": {},
   "source": [
    "We can see that there are a few duplicates in this dataset. Usually duplicates get deleted, but for this particular project I chose to leave them instead. This is because it is not unrealistic that some rows report the exact same values: there can be multiple people of the same age, gender and country who made the same purchase.\n",
    "<br>\n",
    "<br>\n",
    "<br>"
   ]
  },
  {
   "cell_type": "markdown",
   "id": "47284855",
   "metadata": {},
   "source": [
    "Here below I drop the column \"Country\", because now the dataset has been narrowed to the US, hence I don't need this column anymore:"
   ]
  },
  {
   "cell_type": "code",
   "execution_count": null,
   "id": "1a018604",
   "metadata": {},
   "outputs": [],
   "source": [
    "df = df.drop(columns=[\"Country\"])\n",
    "df"
   ]
  },
  {
   "cell_type": "markdown",
   "id": "7b597d99",
   "metadata": {},
   "source": [
    "# Linear regression analysis"
   ]
  },
  {
   "cell_type": "markdown",
   "id": "febaa769",
   "metadata": {},
   "source": [
    "With this regression analysis we want to see whether the dependent variable \"Revenue\" is influenced by customer age, customer gender and unit price "
   ]
  },
  {
   "cell_type": "code",
   "execution_count": null,
   "id": "03fdd791",
   "metadata": {},
   "outputs": [],
   "source": [
    "y = df[\"Revenue\"]\n",
    "X = df[[\"Customer Age\", \"Customer Gender\", \"Unit Price\"]]"
   ]
  },
  {
   "cell_type": "markdown",
   "id": "33999067",
   "metadata": {},
   "source": [
    "### 2.1. Checking for multicollinearity"
   ]
  },
  {
   "cell_type": "code",
   "execution_count": null,
   "id": "743df250",
   "metadata": {},
   "outputs": [],
   "source": [
    "import pandas as pd\n",
    "import numpy as np\n",
    "from statsmodels.stats.outliers_influence import variance_inflation_factor"
   ]
  },
  {
   "cell_type": "code",
   "execution_count": null,
   "id": "ffc1d55e",
   "metadata": {},
   "outputs": [],
   "source": [
    "# Variance Inflation Factor dataframe\n",
    "vif_data = pd.DataFrame()\n",
    "vif_data[\"Variable\"] = X.columns\n",
    "  \n",
    "# calculating VIF for each feature\n",
    "vif_data[\"VIF\"] = [variance_inflation_factor(X.values, i)\n",
    "                          for i in range(X.shape[1])]\n",
    "  \n",
    "vif_data"
   ]
  },
  {
   "cell_type": "markdown",
   "id": "116fc82d",
   "metadata": {},
   "source": [
    "### 2.2. Linear Regression Model and results"
   ]
  },
  {
   "cell_type": "code",
   "execution_count": null,
   "id": "df6530cc",
   "metadata": {},
   "outputs": [],
   "source": [
    "# Splitting the dataset into the Training set and Test set\n",
    "from sklearn.model_selection import train_test_split\n",
    "pd.options.mode.chained_assignment = None\n",
    "X_train, X_test, y_train, y_test = train_test_split(X, y, test_size = 0.3, random_state = 35)"
   ]
  },
  {
   "cell_type": "code",
   "execution_count": null,
   "id": "156b5fa7",
   "metadata": {},
   "outputs": [],
   "source": [
    "print(\"Shape of X_train: \",X_train.shape)\n",
    "print(\"Shape of X_test: \", X_test.shape)\n",
    "print(\"Shape of y_train: \",y_train.shape)\n",
    "print(\"Shape of y_test\",y_test.shape)"
   ]
  },
  {
   "cell_type": "code",
   "execution_count": null,
   "id": "9808d59a",
   "metadata": {},
   "outputs": [],
   "source": [
    "# import libraries\n",
    "import matplotlib.pyplot as plt\n",
    "import seaborn as sns\n",
    "\n",
    "# set figure size\n",
    "plt.figure(figsize=(6,6))\n",
    "\n",
    "# Generate a mask to only show the bottom triangle\n",
    "mask = np.triu(np.ones_like(df.corr(), dtype=bool))\n",
    "\n",
    "# generate heatmap\n",
    "sns.heatmap(df.corr(), annot=True, mask=mask, vmin=-1, vmax=1)\n",
    "plt.title('Correlation Coefficient Of Predictors')\n",
    "plt.show()"
   ]
  },
  {
   "cell_type": "code",
   "execution_count": null,
   "id": "89edd621",
   "metadata": {},
   "outputs": [],
   "source": [
    "from sklearn.linear_model import LinearRegression\n",
    "model = LinearRegression()\n",
    "model.fit(X_train, y_train)\n",
    "from sklearn.metrics import r2_score\n",
    "from sklearn.metrics import mean_squared_error\n",
    "from sklearn.model_selection import cross_val_score"
   ]
  },
  {
   "cell_type": "code",
   "execution_count": null,
   "id": "c067ddbf",
   "metadata": {},
   "outputs": [],
   "source": [
    "# Cross Validation Score of the Test set results\n",
    "cv_linear = cross_val_score(model, X = X_train, y = y_train, cv=7)\n",
    "\n",
    "# R2 Score of the Train set results\n",
    "y_pred_linear_train = model.predict(X_train)\n",
    "r2_score_linear_train = r2_score(y_train, y_pred_linear_train)\n",
    "\n",
    "# R2 Score of the Test set results\n",
    "y_pred_linear_test = model.predict(X_test)\n",
    "r2_score_linear_test = r2_score(y_test, y_pred_linear_test)\n",
    "\n",
    "print(\"CV: \", cv_linear)\n",
    "print()\n",
    "print('R2_score (train): ', r2_score_linear_train)\n",
    "print()\n",
    "print('R2_score (test): ', r2_score_linear_test)"
   ]
  },
  {
   "cell_type": "markdown",
   "id": "68388cc2",
   "metadata": {},
   "source": [
    "## 3. Conclusion"
   ]
  },
  {
   "cell_type": "markdown",
   "id": "32662fd4",
   "metadata": {},
   "source": [
    "In this model I analyzed the correlation between the sales of the store and the variables \"customer age\", \"customer gender\" and \"product price\".\n",
    "\n",
    "***Correlation between sales and price***\n",
    "<br>\n",
    "\n",
    "We usually expect that the \"price-sales\" relationship is the following: when price decreases, the sales increase.\n",
    "The results of this regression show the opposite trend instead: if the price increases, the sales increase too. This is not something that happens very often, but still it is not impossible: sometimes it depends on the product-niche and on the product itself (e.g. when the brand is very strong, then the customer is willing to pay for the brand).  \n",
    "\n",
    "***Correlation between sales and customer features***\n",
    "<br>\n",
    "\n",
    "I expected to find some correlation between the sales and the customer features, for example \"The older the customer, the higher the purchase\", or some information about a possible correlation between the customer gender and the sales, but the model didn't show such correlations. \n",
    "\n",
    "The cross-validation scores (0,7) and the R squared (0,7) show a good model fit for this data."
   ]
  },
  {
   "cell_type": "code",
   "execution_count": null,
   "id": "b2dfe0bd",
   "metadata": {},
   "outputs": [],
   "source": []
  }
 ],
 "metadata": {
  "kernelspec": {
   "display_name": "Python 3 (ipykernel)",
   "language": "python",
   "name": "python3"
  },
  "language_info": {
   "codemirror_mode": {
    "name": "ipython",
    "version": 3
   },
   "file_extension": ".py",
   "mimetype": "text/x-python",
   "name": "python",
   "nbconvert_exporter": "python",
   "pygments_lexer": "ipython3",
   "version": "3.9.7"
  }
 },
 "nbformat": 4,
 "nbformat_minor": 5
}
